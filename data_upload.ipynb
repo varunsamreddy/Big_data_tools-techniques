{
 "cells": [
  {
   "cell_type": "code",
   "execution_count": 1,
   "metadata": {},
   "outputs": [],
   "source": [
    "import pandas as pd\n",
    "import json\n",
    "from uuid import uuid4\n",
    "from cassandra.cluster import Cluster\n",
    "from cassandra.auth import PlainTextAuthProvider"
   ]
  },
  {
   "cell_type": "code",
   "execution_count": 2,
   "metadata": {},
   "outputs": [],
   "source": [
    "with open(\"/Users/samreddyvarunreddy/Downloads/dryeye-token.json\") as f:\n",
    "    secrets = json.load(f)"
   ]
  },
  {
   "cell_type": "code",
   "execution_count": 3,
   "metadata": {},
   "outputs": [],
   "source": [
    "CLIENT_ID = secrets[\"clientId\"]\n",
    "CLIENT_SECRET = secrets[\"secret\"]"
   ]
  },
  {
   "cell_type": "code",
   "execution_count": 4,
   "metadata": {},
   "outputs": [],
   "source": [
    "# === Secure Connect bundle path ===\n",
    "cloud_config = {\n",
    "    'secure_connect_bundle': '/Users/samreddyvarunreddy/Downloads/secure-connect-dryeye.zip'\n",
    "}"
   ]
  },
  {
   "cell_type": "code",
   "execution_count": 5,
   "metadata": {},
   "outputs": [],
   "source": [
    "# === Connect to Astra ===\n",
    "auth_provider = PlainTextAuthProvider(CLIENT_ID, CLIENT_SECRET)\n",
    "cluster = Cluster(cloud=cloud_config, auth_provider=auth_provider)\n",
    "session = cluster.connect()"
   ]
  },
  {
   "cell_type": "code",
   "execution_count": 6,
   "metadata": {},
   "outputs": [],
   "source": [
    "# === Set keyspace ===\n",
    "session.set_keyspace(\"dryeye\")"
   ]
  },
  {
   "cell_type": "code",
   "execution_count": null,
   "metadata": {},
   "outputs": [
    {
     "data": {
      "text/plain": [
       "<cassandra.cluster.ResultSet at 0x1044444c0>"
      ]
     },
     "execution_count": 18,
     "metadata": {},
     "output_type": "execute_result"
    }
   ],
   "source": [
    "# === Create table (if it doesn't exist) ===\n",
    "#session.execute(\"\"\"\n",
    "CREATE TABLE IF NOT EXISTS dry_eye_structured (\n",
    "    id UUID PRIMARY KEY,\n",
    "    gender TEXT,\n",
    "    age INT,\n",
    "    sleep_duration FLOAT,\n",
    "    sleep_quality INT,\n",
    "    stress_level INT,\n",
    "    blood_pressure TEXT,\n",
    "    heart_rate INT,\n",
    "    daily_steps INT,\n",
    "    physical_activity INT,\n",
    "    height INT,\n",
    "    weight INT,\n",
    "    sleep_disorder TEXT,\n",
    "    wake_up_during_night TEXT,\n",
    "    feel_sleepy_during_day TEXT,\n",
    "    caffeine_consumption TEXT,\n",
    "    alcohol_consumption TEXT,\n",
    "    smoking TEXT,\n",
    "    medical_issue TEXT,\n",
    "    ongoing_medication TEXT,\n",
    "    smart_device_before_bed TEXT,\n",
    "    average_screen_time FLOAT,\n",
    "    blue_light_filter TEXT,\n",
    "    discomfort_eye_strain TEXT,\n",
    "    redness_in_eye TEXT,\n",
    "    itchiness_irritation_in_eye TEXT,\n",
    "    dry_eye_disease TEXT\n",
    ");\n",
    "\"\"\")"
   ]
  },
  {
   "cell_type": "code",
   "execution_count": 7,
   "metadata": {},
   "outputs": [],
   "source": [
    "df = pd.read_csv(\"/Users/samreddyvarunreddy/Downloads/Dry_Eye_Dataset.csv\")\n",
    "df.columns = [col.strip().replace(\" \", \"_\").replace(\"/\", \"_\").replace(\"-\", \"_\").lower() for col in df.columns]"
   ]
  },
  {
   "cell_type": "code",
   "execution_count": 8,
   "metadata": {},
   "outputs": [
    {
     "data": {
      "text/html": [
       "<div>\n",
       "<style scoped>\n",
       "    .dataframe tbody tr th:only-of-type {\n",
       "        vertical-align: middle;\n",
       "    }\n",
       "\n",
       "    .dataframe tbody tr th {\n",
       "        vertical-align: top;\n",
       "    }\n",
       "\n",
       "    .dataframe thead th {\n",
       "        text-align: right;\n",
       "    }\n",
       "</style>\n",
       "<table border=\"1\" class=\"dataframe\">\n",
       "  <thead>\n",
       "    <tr style=\"text-align: right;\">\n",
       "      <th></th>\n",
       "      <th>gender</th>\n",
       "      <th>age</th>\n",
       "      <th>sleep_duration</th>\n",
       "      <th>sleep_quality</th>\n",
       "      <th>stress_level</th>\n",
       "      <th>blood_pressure</th>\n",
       "      <th>heart_rate</th>\n",
       "      <th>daily_steps</th>\n",
       "      <th>physical_activity</th>\n",
       "      <th>height</th>\n",
       "      <th>...</th>\n",
       "      <th>smoking</th>\n",
       "      <th>medical_issue</th>\n",
       "      <th>ongoing_medication</th>\n",
       "      <th>smart_device_before_bed</th>\n",
       "      <th>average_screen_time</th>\n",
       "      <th>blue_light_filter</th>\n",
       "      <th>discomfort_eye_strain</th>\n",
       "      <th>redness_in_eye</th>\n",
       "      <th>itchiness_irritation_in_eye</th>\n",
       "      <th>dry_eye_disease</th>\n",
       "    </tr>\n",
       "  </thead>\n",
       "  <tbody>\n",
       "    <tr>\n",
       "      <th>0</th>\n",
       "      <td>F</td>\n",
       "      <td>24</td>\n",
       "      <td>9.5</td>\n",
       "      <td>2</td>\n",
       "      <td>1</td>\n",
       "      <td>137/89</td>\n",
       "      <td>67</td>\n",
       "      <td>3000</td>\n",
       "      <td>31</td>\n",
       "      <td>161</td>\n",
       "      <td>...</td>\n",
       "      <td>N</td>\n",
       "      <td>Y</td>\n",
       "      <td>Y</td>\n",
       "      <td>N</td>\n",
       "      <td>8.7</td>\n",
       "      <td>N</td>\n",
       "      <td>Y</td>\n",
       "      <td>Y</td>\n",
       "      <td>N</td>\n",
       "      <td>Y</td>\n",
       "    </tr>\n",
       "    <tr>\n",
       "      <th>1</th>\n",
       "      <td>M</td>\n",
       "      <td>39</td>\n",
       "      <td>9.6</td>\n",
       "      <td>2</td>\n",
       "      <td>3</td>\n",
       "      <td>108/64</td>\n",
       "      <td>60</td>\n",
       "      <td>12000</td>\n",
       "      <td>74</td>\n",
       "      <td>164</td>\n",
       "      <td>...</td>\n",
       "      <td>N</td>\n",
       "      <td>Y</td>\n",
       "      <td>Y</td>\n",
       "      <td>N</td>\n",
       "      <td>9.6</td>\n",
       "      <td>Y</td>\n",
       "      <td>N</td>\n",
       "      <td>N</td>\n",
       "      <td>Y</td>\n",
       "      <td>Y</td>\n",
       "    </tr>\n",
       "    <tr>\n",
       "      <th>2</th>\n",
       "      <td>F</td>\n",
       "      <td>45</td>\n",
       "      <td>5.4</td>\n",
       "      <td>1</td>\n",
       "      <td>5</td>\n",
       "      <td>134/81</td>\n",
       "      <td>95</td>\n",
       "      <td>12000</td>\n",
       "      <td>93</td>\n",
       "      <td>179</td>\n",
       "      <td>...</td>\n",
       "      <td>N</td>\n",
       "      <td>N</td>\n",
       "      <td>N</td>\n",
       "      <td>Y</td>\n",
       "      <td>4.0</td>\n",
       "      <td>N</td>\n",
       "      <td>Y</td>\n",
       "      <td>N</td>\n",
       "      <td>N</td>\n",
       "      <td>N</td>\n",
       "    </tr>\n",
       "    <tr>\n",
       "      <th>3</th>\n",
       "      <td>F</td>\n",
       "      <td>45</td>\n",
       "      <td>5.4</td>\n",
       "      <td>4</td>\n",
       "      <td>5</td>\n",
       "      <td>110/90</td>\n",
       "      <td>78</td>\n",
       "      <td>19000</td>\n",
       "      <td>32</td>\n",
       "      <td>160</td>\n",
       "      <td>...</td>\n",
       "      <td>N</td>\n",
       "      <td>Y</td>\n",
       "      <td>N</td>\n",
       "      <td>N</td>\n",
       "      <td>7.6</td>\n",
       "      <td>N</td>\n",
       "      <td>Y</td>\n",
       "      <td>N</td>\n",
       "      <td>Y</td>\n",
       "      <td>N</td>\n",
       "    </tr>\n",
       "    <tr>\n",
       "      <th>4</th>\n",
       "      <td>F</td>\n",
       "      <td>42</td>\n",
       "      <td>5.7</td>\n",
       "      <td>3</td>\n",
       "      <td>2</td>\n",
       "      <td>99/67</td>\n",
       "      <td>72</td>\n",
       "      <td>4000</td>\n",
       "      <td>173</td>\n",
       "      <td>179</td>\n",
       "      <td>...</td>\n",
       "      <td>N</td>\n",
       "      <td>Y</td>\n",
       "      <td>N</td>\n",
       "      <td>N</td>\n",
       "      <td>3.5</td>\n",
       "      <td>N</td>\n",
       "      <td>Y</td>\n",
       "      <td>Y</td>\n",
       "      <td>N</td>\n",
       "      <td>Y</td>\n",
       "    </tr>\n",
       "  </tbody>\n",
       "</table>\n",
       "<p>5 rows × 26 columns</p>\n",
       "</div>"
      ],
      "text/plain": [
       "  gender  age  sleep_duration  sleep_quality  stress_level blood_pressure  \\\n",
       "0      F   24             9.5              2             1         137/89   \n",
       "1      M   39             9.6              2             3         108/64   \n",
       "2      F   45             5.4              1             5         134/81   \n",
       "3      F   45             5.4              4             5         110/90   \n",
       "4      F   42             5.7              3             2          99/67   \n",
       "\n",
       "   heart_rate  daily_steps  physical_activity  height  ...  smoking  \\\n",
       "0          67         3000                 31     161  ...        N   \n",
       "1          60        12000                 74     164  ...        N   \n",
       "2          95        12000                 93     179  ...        N   \n",
       "3          78        19000                 32     160  ...        N   \n",
       "4          72         4000                173     179  ...        N   \n",
       "\n",
       "  medical_issue ongoing_medication smart_device_before_bed  \\\n",
       "0             Y                  Y                       N   \n",
       "1             Y                  Y                       N   \n",
       "2             N                  N                       Y   \n",
       "3             Y                  N                       N   \n",
       "4             Y                  N                       N   \n",
       "\n",
       "  average_screen_time blue_light_filter discomfort_eye_strain redness_in_eye  \\\n",
       "0                 8.7                 N                     Y              Y   \n",
       "1                 9.6                 Y                     N              N   \n",
       "2                 4.0                 N                     Y              N   \n",
       "3                 7.6                 N                     Y              N   \n",
       "4                 3.5                 N                     Y              Y   \n",
       "\n",
       "  itchiness_irritation_in_eye dry_eye_disease  \n",
       "0                           N               Y  \n",
       "1                           Y               Y  \n",
       "2                           N               N  \n",
       "3                           Y               N  \n",
       "4                           N               Y  \n",
       "\n",
       "[5 rows x 26 columns]"
      ]
     },
     "execution_count": 8,
     "metadata": {},
     "output_type": "execute_result"
    }
   ],
   "source": [
    "df.head()"
   ]
  },
  {
   "cell_type": "code",
   "execution_count": 9,
   "metadata": {},
   "outputs": [
    {
     "data": {
      "text/html": [
       "<div>\n",
       "<style scoped>\n",
       "    .dataframe tbody tr th:only-of-type {\n",
       "        vertical-align: middle;\n",
       "    }\n",
       "\n",
       "    .dataframe tbody tr th {\n",
       "        vertical-align: top;\n",
       "    }\n",
       "\n",
       "    .dataframe thead th {\n",
       "        text-align: right;\n",
       "    }\n",
       "</style>\n",
       "<table border=\"1\" class=\"dataframe\">\n",
       "  <thead>\n",
       "    <tr style=\"text-align: right;\">\n",
       "      <th></th>\n",
       "      <th>age</th>\n",
       "      <th>sleep_duration</th>\n",
       "      <th>sleep_quality</th>\n",
       "      <th>stress_level</th>\n",
       "      <th>heart_rate</th>\n",
       "      <th>daily_steps</th>\n",
       "      <th>physical_activity</th>\n",
       "      <th>height</th>\n",
       "      <th>weight</th>\n",
       "      <th>average_screen_time</th>\n",
       "    </tr>\n",
       "  </thead>\n",
       "  <tbody>\n",
       "    <tr>\n",
       "      <th>count</th>\n",
       "      <td>20000.000000</td>\n",
       "      <td>20000.000000</td>\n",
       "      <td>20000.000000</td>\n",
       "      <td>20000.000000</td>\n",
       "      <td>20000.000000</td>\n",
       "      <td>20000.000000</td>\n",
       "      <td>20000.000000</td>\n",
       "      <td>20000.000000</td>\n",
       "      <td>20000.000000</td>\n",
       "      <td>20000.000000</td>\n",
       "    </tr>\n",
       "    <tr>\n",
       "      <th>mean</th>\n",
       "      <td>31.422800</td>\n",
       "      <td>6.998245</td>\n",
       "      <td>2.997250</td>\n",
       "      <td>2.993750</td>\n",
       "      <td>79.912200</td>\n",
       "      <td>10536.900000</td>\n",
       "      <td>90.069750</td>\n",
       "      <td>174.865900</td>\n",
       "      <td>74.891850</td>\n",
       "      <td>5.519885</td>\n",
       "    </tr>\n",
       "    <tr>\n",
       "      <th>std</th>\n",
       "      <td>8.103717</td>\n",
       "      <td>1.731723</td>\n",
       "      <td>1.412283</td>\n",
       "      <td>1.407235</td>\n",
       "      <td>11.808279</td>\n",
       "      <td>5752.729186</td>\n",
       "      <td>52.317283</td>\n",
       "      <td>14.719903</td>\n",
       "      <td>14.733839</td>\n",
       "      <td>2.606305</td>\n",
       "    </tr>\n",
       "    <tr>\n",
       "      <th>min</th>\n",
       "      <td>18.000000</td>\n",
       "      <td>4.000000</td>\n",
       "      <td>1.000000</td>\n",
       "      <td>1.000000</td>\n",
       "      <td>60.000000</td>\n",
       "      <td>1000.000000</td>\n",
       "      <td>0.000000</td>\n",
       "      <td>150.000000</td>\n",
       "      <td>50.000000</td>\n",
       "      <td>1.000000</td>\n",
       "    </tr>\n",
       "    <tr>\n",
       "      <th>25%</th>\n",
       "      <td>24.000000</td>\n",
       "      <td>5.500000</td>\n",
       "      <td>2.000000</td>\n",
       "      <td>2.000000</td>\n",
       "      <td>70.000000</td>\n",
       "      <td>6000.000000</td>\n",
       "      <td>45.000000</td>\n",
       "      <td>162.000000</td>\n",
       "      <td>62.000000</td>\n",
       "      <td>3.300000</td>\n",
       "    </tr>\n",
       "    <tr>\n",
       "      <th>50%</th>\n",
       "      <td>31.000000</td>\n",
       "      <td>7.000000</td>\n",
       "      <td>3.000000</td>\n",
       "      <td>3.000000</td>\n",
       "      <td>80.000000</td>\n",
       "      <td>11000.000000</td>\n",
       "      <td>91.000000</td>\n",
       "      <td>175.000000</td>\n",
       "      <td>75.000000</td>\n",
       "      <td>5.500000</td>\n",
       "    </tr>\n",
       "    <tr>\n",
       "      <th>75%</th>\n",
       "      <td>39.000000</td>\n",
       "      <td>8.500000</td>\n",
       "      <td>4.000000</td>\n",
       "      <td>4.000000</td>\n",
       "      <td>90.000000</td>\n",
       "      <td>16000.000000</td>\n",
       "      <td>135.000000</td>\n",
       "      <td>188.000000</td>\n",
       "      <td>88.000000</td>\n",
       "      <td>7.800000</td>\n",
       "    </tr>\n",
       "    <tr>\n",
       "      <th>max</th>\n",
       "      <td>45.000000</td>\n",
       "      <td>10.000000</td>\n",
       "      <td>5.000000</td>\n",
       "      <td>5.000000</td>\n",
       "      <td>100.000000</td>\n",
       "      <td>20000.000000</td>\n",
       "      <td>180.000000</td>\n",
       "      <td>200.000000</td>\n",
       "      <td>100.000000</td>\n",
       "      <td>10.000000</td>\n",
       "    </tr>\n",
       "  </tbody>\n",
       "</table>\n",
       "</div>"
      ],
      "text/plain": [
       "                age  sleep_duration  sleep_quality  stress_level  \\\n",
       "count  20000.000000    20000.000000   20000.000000  20000.000000   \n",
       "mean      31.422800        6.998245       2.997250      2.993750   \n",
       "std        8.103717        1.731723       1.412283      1.407235   \n",
       "min       18.000000        4.000000       1.000000      1.000000   \n",
       "25%       24.000000        5.500000       2.000000      2.000000   \n",
       "50%       31.000000        7.000000       3.000000      3.000000   \n",
       "75%       39.000000        8.500000       4.000000      4.000000   \n",
       "max       45.000000       10.000000       5.000000      5.000000   \n",
       "\n",
       "         heart_rate   daily_steps  physical_activity        height  \\\n",
       "count  20000.000000  20000.000000       20000.000000  20000.000000   \n",
       "mean      79.912200  10536.900000          90.069750    174.865900   \n",
       "std       11.808279   5752.729186          52.317283     14.719903   \n",
       "min       60.000000   1000.000000           0.000000    150.000000   \n",
       "25%       70.000000   6000.000000          45.000000    162.000000   \n",
       "50%       80.000000  11000.000000          91.000000    175.000000   \n",
       "75%       90.000000  16000.000000         135.000000    188.000000   \n",
       "max      100.000000  20000.000000         180.000000    200.000000   \n",
       "\n",
       "             weight  average_screen_time  \n",
       "count  20000.000000         20000.000000  \n",
       "mean      74.891850             5.519885  \n",
       "std       14.733839             2.606305  \n",
       "min       50.000000             1.000000  \n",
       "25%       62.000000             3.300000  \n",
       "50%       75.000000             5.500000  \n",
       "75%       88.000000             7.800000  \n",
       "max      100.000000            10.000000  "
      ]
     },
     "execution_count": 9,
     "metadata": {},
     "output_type": "execute_result"
    }
   ],
   "source": [
    "df.describe()"
   ]
  },
  {
   "cell_type": "code",
   "execution_count": 10,
   "metadata": {},
   "outputs": [
    {
     "name": "stdout",
     "output_type": "stream",
     "text": [
      "gender                         0\n",
      "age                            0\n",
      "sleep_duration                 0\n",
      "sleep_quality                  0\n",
      "stress_level                   0\n",
      "blood_pressure                 0\n",
      "heart_rate                     0\n",
      "daily_steps                    0\n",
      "physical_activity              0\n",
      "height                         0\n",
      "weight                         0\n",
      "sleep_disorder                 0\n",
      "wake_up_during_night           0\n",
      "feel_sleepy_during_day         0\n",
      "caffeine_consumption           0\n",
      "alcohol_consumption            0\n",
      "smoking                        0\n",
      "medical_issue                  0\n",
      "ongoing_medication             0\n",
      "smart_device_before_bed        0\n",
      "average_screen_time            0\n",
      "blue_light_filter              0\n",
      "discomfort_eye_strain          0\n",
      "redness_in_eye                 0\n",
      "itchiness_irritation_in_eye    0\n",
      "dry_eye_disease                0\n",
      "dtype: int64\n"
     ]
    }
   ],
   "source": [
    "print(df.isnull().sum())"
   ]
  },
  {
   "cell_type": "code",
   "execution_count": 30,
   "metadata": {},
   "outputs": [],
   "source": [
    "for _, row in df.iterrows():\n",
    "    session.execute(\"\"\"\n",
    "        INSERT INTO dry_eye_csv (\n",
    "            id, gender, age, sleep_duration, sleep_quality, stress_level,\n",
    "            blood_pressure, heart_rate, daily_steps, physical_activity,\n",
    "            height, weight, sleep_disorder, wake_up_during_night, feel_sleepy_during_day, caffeine_consumption, alcohol_consumption,\n",
    "            smoking, medical_issue, ongoing_medication, smart_device_before_bed,\n",
    "            average_screen_time, blue_light_filter, eye_strain,\n",
    "            eye_redness, itchy_eye, dry_eye_disease\n",
    "        ) VALUES (%s, %s, %s, %s, %s, %s, %s, %s, %s, %s, %s, %s, %s, %s, %s, %s,\n",
    "                  %s, %s, %s, %s, %s, %s, %s, %s, %s, %s, %s)\n",
    "    \"\"\", (\n",
    "        uuid4(), row.gender, row.age, row.sleep_duration, row.sleep_quality, row.stress_level,\n",
    "        row.blood_pressure, row.heart_rate, row.daily_steps, row.physical_activity,\n",
    "        row.height, row.weight, row.sleep_disorder, row.wake_up_during_night, row.feel_sleepy_during_day, row.caffeine_consumption,\n",
    "        row.alcohol_consumption ,row.smoking, row.medical_issue, row.ongoing_medication, row.smart_device_before_bed,\n",
    "        row.average_screen_time, row.blue_light_filter, row.discomfort_eye_strain,\n",
    "        row.redness_in_eye , row.itchiness_irritation_in_eye, row.dry_eye_disease\n",
    "    ))"
   ]
  },
  {
   "cell_type": "code",
   "execution_count": 11,
   "metadata": {},
   "outputs": [
    {
     "data": {
      "text/plain": [
       "<cassandra.cluster.ResultSet at 0x103a83100>"
      ]
     },
     "execution_count": 11,
     "metadata": {},
     "output_type": "execute_result"
    }
   ],
   "source": [
    "# Create the subset table\n",
    "session.execute(\"\"\"\n",
    "    CREATE TABLE IF NOT EXISTS dryeye_subset (\n",
    "        id UUID PRIMARY KEY,\n",
    "        age INT,\n",
    "        gender TEXT,\n",
    "        alcohol_consumption TEXT,\n",
    "        smoking TEXT\n",
    "    );\n",
    "\"\"\")"
   ]
  },
  {
   "cell_type": "code",
   "execution_count": 12,
   "metadata": {},
   "outputs": [],
   "source": [
    "# Select data from original table and insert into new one\n",
    "rows = session.execute(\"SELECT id, age, gender, alcohol_consumption, smoking FROM dry_eye_csv\")\n"
   ]
  },
  {
   "cell_type": "code",
   "execution_count": 13,
   "metadata": {},
   "outputs": [
    {
     "name": "stdout",
     "output_type": "stream",
     "text": [
      " Subset table 'dryeye_subset' created and populated.\n"
     ]
    }
   ],
   "source": [
    "for row in rows:\n",
    "    session.execute(\"\"\"\n",
    "        INSERT INTO dryeye_subset (id, age, gender, alcohol_consumption, smoking)\n",
    "        VALUES (%s, %s, %s, %s, %s)\n",
    "    \"\"\", (row.id, row.age, row.gender, row.alcohol_consumption, row.smoking))\n",
    "\n",
    "print(\" Subset table 'dryeye_subset' created and populated.\")"
   ]
  },
  {
   "cell_type": "markdown",
   "metadata": {},
   "source": [
    "THE CRUD OPERATIONS PERFORMED IN CQL CONSOLE, ARE ALSO EXECUTED IN PYTHON TO SHOW HOW THEY WORK. "
   ]
  },
  {
   "cell_type": "code",
   "execution_count": 15,
   "metadata": {},
   "outputs": [
    {
     "name": "stdout",
     "output_type": "stream",
     "text": [
      "🔍 Read result:\n",
      "{'id': UUID('6e58a856-7780-48a6-a467-42a25d82f307'), 'age': 23, 'alcohol_consumption': 'N', 'average_screen_time': 5.800000190734863, 'blood_pressure': '135/88', 'blue_light_filter': 'Y', 'caffeine_consumption': 'N', 'daily_steps': 16000, 'dry_eye_disease': 'Y', 'eye_redness': 'Y', 'eye_strain': 'N', 'feel_sleepy_during_day': 'N', 'gender': 'F', 'heart_rate': 63, 'height': 194.0, 'itchy_eye': 'N', 'medical_issue': 'N', 'ongoing_medication': 'Y', 'physical_activity': 158, 'sleep_disorder': 'N', 'sleep_duration': 7.0, 'sleep_quality': 1, 'smart_device_before_bed': 'N', 'smoking': 'N', 'stress_level': 3, 'wake_up_during_night': 'N', 'weight': 73.0}\n",
      "{'id': UUID('129d8feb-eda3-4560-93d5-17c903fde60f'), 'age': 41, 'alcohol_consumption': 'Y', 'average_screen_time': 6.300000190734863, 'blood_pressure': '136/83', 'blue_light_filter': 'Y', 'caffeine_consumption': 'Y', 'daily_steps': 7000, 'dry_eye_disease': 'Y', 'eye_redness': 'N', 'eye_strain': 'Y', 'feel_sleepy_during_day': 'Y', 'gender': 'M', 'heart_rate': 93, 'height': 193.0, 'itchy_eye': 'Y', 'medical_issue': 'N', 'ongoing_medication': 'Y', 'physical_activity': 103, 'sleep_disorder': 'Y', 'sleep_duration': 7.0, 'sleep_quality': 3, 'smart_device_before_bed': 'N', 'smoking': 'N', 'stress_level': 1, 'wake_up_during_night': 'N', 'weight': 68.0}\n",
      "{'id': UUID('9629381c-4a22-4952-86ee-76233ff04a46'), 'age': 29, 'alcohol_consumption': 'N', 'average_screen_time': 6.800000190734863, 'blood_pressure': '99/68', 'blue_light_filter': 'Y', 'caffeine_consumption': 'N', 'daily_steps': 6000, 'dry_eye_disease': 'Y', 'eye_redness': 'Y', 'eye_strain': 'N', 'feel_sleepy_during_day': 'Y', 'gender': 'F', 'heart_rate': 63, 'height': 189.0, 'itchy_eye': 'Y', 'medical_issue': 'N', 'ongoing_medication': 'Y', 'physical_activity': 146, 'sleep_disorder': 'N', 'sleep_duration': 5.0, 'sleep_quality': 5, 'smart_device_before_bed': 'Y', 'smoking': 'N', 'stress_level': 4, 'wake_up_during_night': 'Y', 'weight': 63.0}\n",
      "{'id': UUID('4fb34541-d565-4a92-9b09-967c00c4f76f'), 'age': 41, 'alcohol_consumption': 'Y', 'average_screen_time': 10.0, 'blood_pressure': '115/65', 'blue_light_filter': 'N', 'caffeine_consumption': 'N', 'daily_steps': 14000, 'dry_eye_disease': 'Y', 'eye_redness': 'N', 'eye_strain': 'N', 'feel_sleepy_during_day': 'Y', 'gender': 'F', 'heart_rate': 62, 'height': 177.0, 'itchy_eye': 'Y', 'medical_issue': 'N', 'ongoing_medication': 'N', 'physical_activity': 71, 'sleep_disorder': 'N', 'sleep_duration': 5.400000095367432, 'sleep_quality': 2, 'smart_device_before_bed': 'Y', 'smoking': 'Y', 'stress_level': 3, 'wake_up_during_night': 'Y', 'weight': 58.0}\n",
      "{'id': UUID('62702c8e-f520-4b03-b2d2-34a2edf9e1e6'), 'age': 44, 'alcohol_consumption': 'N', 'average_screen_time': 5.0, 'blood_pressure': '111/61', 'blue_light_filter': 'Y', 'caffeine_consumption': 'N', 'daily_steps': 12000, 'dry_eye_disease': 'Y', 'eye_redness': 'N', 'eye_strain': 'N', 'feel_sleepy_during_day': 'Y', 'gender': 'F', 'heart_rate': 92, 'height': 178.0, 'itchy_eye': 'Y', 'medical_issue': 'N', 'ongoing_medication': 'Y', 'physical_activity': 96, 'sleep_disorder': 'N', 'sleep_duration': 9.100000381469727, 'sleep_quality': 3, 'smart_device_before_bed': 'Y', 'smoking': 'Y', 'stress_level': 5, 'wake_up_during_night': 'Y', 'weight': 68.0}\n",
      "{'id': UUID('0e492571-6675-4a3f-b1cf-72f621eb49c8'), 'age': 31, 'alcohol_consumption': 'N', 'average_screen_time': 3.0, 'blood_pressure': '135/66', 'blue_light_filter': 'Y', 'caffeine_consumption': 'N', 'daily_steps': 10000, 'dry_eye_disease': 'Y', 'eye_redness': 'Y', 'eye_strain': 'Y', 'feel_sleepy_during_day': 'N', 'gender': 'F', 'heart_rate': 79, 'height': 157.0, 'itchy_eye': 'Y', 'medical_issue': 'N', 'ongoing_medication': 'Y', 'physical_activity': 12, 'sleep_disorder': 'Y', 'sleep_duration': 8.399999618530273, 'sleep_quality': 1, 'smart_device_before_bed': 'N', 'smoking': 'Y', 'stress_level': 1, 'wake_up_during_night': 'Y', 'weight': 53.0}\n",
      "{'id': UUID('ccce5044-8651-4251-b2d8-17e05bada395'), 'age': 33, 'alcohol_consumption': 'Y', 'average_screen_time': 9.100000381469727, 'blood_pressure': '128/79', 'blue_light_filter': 'N', 'caffeine_consumption': 'N', 'daily_steps': 15000, 'dry_eye_disease': 'Y', 'eye_redness': 'N', 'eye_strain': 'Y', 'feel_sleepy_during_day': 'N', 'gender': 'M', 'heart_rate': 60, 'height': 192.0, 'itchy_eye': 'N', 'medical_issue': 'N', 'ongoing_medication': 'N', 'physical_activity': 91, 'sleep_disorder': 'Y', 'sleep_duration': 6.5, 'sleep_quality': 4, 'smart_device_before_bed': 'Y', 'smoking': 'Y', 'stress_level': 1, 'wake_up_during_night': 'N', 'weight': 76.0}\n",
      "{'id': UUID('f815ef99-044f-4ea0-9517-5f1cec55aff1'), 'age': 36, 'alcohol_consumption': 'Y', 'average_screen_time': 3.4000000953674316, 'blood_pressure': '112/70', 'blue_light_filter': 'Y', 'caffeine_consumption': 'Y', 'daily_steps': 7000, 'dry_eye_disease': 'Y', 'eye_redness': 'N', 'eye_strain': 'Y', 'feel_sleepy_during_day': 'N', 'gender': 'M', 'heart_rate': 63, 'height': 184.0, 'itchy_eye': 'Y', 'medical_issue': 'N', 'ongoing_medication': 'N', 'physical_activity': 43, 'sleep_disorder': 'N', 'sleep_duration': 8.399999618530273, 'sleep_quality': 1, 'smart_device_before_bed': 'Y', 'smoking': 'N', 'stress_level': 3, 'wake_up_during_night': 'Y', 'weight': 84.0}\n",
      "{'id': UUID('99a084d2-a68d-4e38-9c6e-e5acbee5c47c'), 'age': 42, 'alcohol_consumption': 'N', 'average_screen_time': 3.0, 'blood_pressure': '130/81', 'blue_light_filter': 'Y', 'caffeine_consumption': 'N', 'daily_steps': 15000, 'dry_eye_disease': 'Y', 'eye_redness': 'N', 'eye_strain': 'N', 'feel_sleepy_during_day': 'Y', 'gender': 'F', 'heart_rate': 85, 'height': 157.0, 'itchy_eye': 'Y', 'medical_issue': 'Y', 'ongoing_medication': 'Y', 'physical_activity': 85, 'sleep_disorder': 'Y', 'sleep_duration': 5.400000095367432, 'sleep_quality': 3, 'smart_device_before_bed': 'N', 'smoking': 'Y', 'stress_level': 3, 'wake_up_during_night': 'N', 'weight': 100.0}\n",
      "{'id': UUID('24b6574e-cad9-4dc5-ac98-cb4e3f1128e7'), 'age': 42, 'alcohol_consumption': 'N', 'average_screen_time': 1.600000023841858, 'blood_pressure': '129/68', 'blue_light_filter': 'Y', 'caffeine_consumption': 'Y', 'daily_steps': 18000, 'dry_eye_disease': 'Y', 'eye_redness': 'Y', 'eye_strain': 'N', 'feel_sleepy_during_day': 'Y', 'gender': 'M', 'heart_rate': 97, 'height': 193.0, 'itchy_eye': 'N', 'medical_issue': 'Y', 'ongoing_medication': 'N', 'physical_activity': 2, 'sleep_disorder': 'Y', 'sleep_duration': 6.900000095367432, 'sleep_quality': 2, 'smart_device_before_bed': 'Y', 'smoking': 'N', 'stress_level': 4, 'wake_up_during_night': 'N', 'weight': 59.0}\n"
     ]
    }
   ],
   "source": [
    "value = \"Y\"\n",
    "rows = session.execute(\"\"\"\n",
    "    SELECT * FROM dry_eye_csv WHERE dry_eye_disease = %s LIMIT 10 ALLOW FILTERING\n",
    "\"\"\", (value,))\n",
    "print(\"🔍 Read result:\")\n",
    "for row in rows:\n",
    "    print(dict(row._asdict()))\n"
   ]
  },
  {
   "cell_type": "code",
   "execution_count": 19,
   "metadata": {},
   "outputs": [
    {
     "name": "stdout",
     "output_type": "stream",
     "text": [
      " Inserted new row with ID: da6a087a-f96f-4bd7-9f37-30922452a8cd\n"
     ]
    }
   ],
   "source": [
    "# CREATE (Insert a new row)\n",
    "new_id = uuid4()\n",
    "session.execute(\"\"\"\n",
    "    INSERT INTO dry_eye_csv (\n",
    "        id, age, gender, sleep_duration, sleep_quality, stress_level,\n",
    "        blood_pressure, heart_rate, daily_steps, physical_activity,\n",
    "        height, weight, sleep_disorder, wake_up_during_night, feel_sleepy_during_day,\n",
    "        caffeine_consumption, alcohol_consumption, smoking, medical_issue,\n",
    "        ongoing_medication, smart_device_before_bed, average_screen_time,\n",
    "        blue_light_filter, eye_strain, eye_redness,\n",
    "        itchy_eye, dry_eye_disease\n",
    "    ) VALUES (%s, %s, %s, %s, %s, %s, %s, %s, %s, %s, %s, %s, %s, %s, %s, %s, %s, %s, %s, %s, %s, %s, %s, %s, %s, %s, %s)\n",
    "\"\"\", (\n",
    "    new_id, 35, 'F', 7.0, 4, 2, 'Normal', 75, 5000, 3,\n",
    "    160.0, 55.0, 'None', 'No', 'No', 'Low', 'None', 'N', 'None',\n",
    "    'No', 'Yes', 6.5, 'Yes', 'Low', 'None', 'No', 'Y'\n",
    "))\n",
    "print(f\" Inserted new row with ID: {new_id}\")"
   ]
  },
  {
   "cell_type": "code",
   "execution_count": 20,
   "metadata": {},
   "outputs": [
    {
     "name": "stdout",
     "output_type": "stream",
     "text": [
      " Retrieved: {'id': UUID('da6a087a-f96f-4bd7-9f37-30922452a8cd'), 'age': 35, 'alcohol_consumption': 'None', 'average_screen_time': 6.5, 'blood_pressure': 'Normal', 'blue_light_filter': 'Yes', 'caffeine_consumption': 'Low', 'daily_steps': 5000, 'dry_eye_disease': 'Y', 'eye_redness': 'None', 'eye_strain': 'Low', 'feel_sleepy_during_day': 'No', 'gender': 'F', 'heart_rate': 75, 'height': 160.0, 'itchy_eye': 'No', 'medical_issue': 'None', 'ongoing_medication': 'No', 'physical_activity': 3, 'sleep_disorder': 'None', 'sleep_duration': 7.0, 'sleep_quality': 4, 'smart_device_before_bed': 'Yes', 'smoking': 'N', 'stress_level': 2, 'wake_up_during_night': 'No', 'weight': 55.0}\n"
     ]
    }
   ],
   "source": [
    "row = session.execute(\"SELECT * FROM dry_eye_csv WHERE id = %s\", (new_id,)).one()\n",
    "if row:\n",
    "    print(\" Retrieved:\", dict(row._asdict()))\n",
    "else:\n",
    "    print(\" No row found.\")\n"
   ]
  },
  {
   "cell_type": "code",
   "execution_count": 21,
   "metadata": {},
   "outputs": [
    {
     "name": "stdout",
     "output_type": "stream",
     "text": [
      " Updated stress_level and sleep_quality\n"
     ]
    }
   ],
   "source": [
    "session.execute(\"\"\"\n",
    "    UPDATE dry_eye_csv SET stress_level = %s, sleep_quality = %s WHERE id = %s\n",
    "\"\"\", (5, 3, new_id))\n",
    "print(\" Updated stress_level and sleep_quality\")"
   ]
  },
  {
   "cell_type": "code",
   "execution_count": 22,
   "metadata": {},
   "outputs": [
    {
     "name": "stdout",
     "output_type": "stream",
     "text": [
      "Deleted the row.\n"
     ]
    }
   ],
   "source": [
    "session.execute(\"DELETE FROM dry_eye_csv WHERE id = %s\", (new_id,))\n",
    "print(\"Deleted the row.\")"
   ]
  },
  {
   "cell_type": "code",
   "execution_count": 23,
   "metadata": {},
   "outputs": [
    {
     "name": "stdout",
     "output_type": "stream",
     "text": [
      "{'id': UUID('6e58a856-7780-48a6-a467-42a25d82f307'), 'age': 23, 'alcohol_consumption': 'N', 'average_screen_time': 5.800000190734863, 'blood_pressure': '135/88', 'blue_light_filter': 'Y', 'caffeine_consumption': 'N', 'daily_steps': 16000, 'dry_eye_disease': 'Y', 'eye_redness': 'Y', 'eye_strain': 'N', 'feel_sleepy_during_day': 'N', 'gender': 'F', 'heart_rate': 63, 'height': 194.0, 'itchy_eye': 'N', 'medical_issue': 'N', 'ongoing_medication': 'Y', 'physical_activity': 158, 'sleep_disorder': 'N', 'sleep_duration': 7.0, 'sleep_quality': 1, 'smart_device_before_bed': 'N', 'smoking': 'N', 'stress_level': 3, 'wake_up_during_night': 'N', 'weight': 73.0}\n",
      "{'id': UUID('129d8feb-eda3-4560-93d5-17c903fde60f'), 'age': 41, 'alcohol_consumption': 'Y', 'average_screen_time': 6.300000190734863, 'blood_pressure': '136/83', 'blue_light_filter': 'Y', 'caffeine_consumption': 'Y', 'daily_steps': 7000, 'dry_eye_disease': 'Y', 'eye_redness': 'N', 'eye_strain': 'Y', 'feel_sleepy_during_day': 'Y', 'gender': 'M', 'heart_rate': 93, 'height': 193.0, 'itchy_eye': 'Y', 'medical_issue': 'N', 'ongoing_medication': 'Y', 'physical_activity': 103, 'sleep_disorder': 'Y', 'sleep_duration': 7.0, 'sleep_quality': 3, 'smart_device_before_bed': 'N', 'smoking': 'N', 'stress_level': 1, 'wake_up_during_night': 'N', 'weight': 68.0}\n",
      "{'id': UUID('c02ef20d-4176-403a-a8ba-a7ca7e3ee010'), 'age': 40, 'alcohol_consumption': 'N', 'average_screen_time': 3.0999999046325684, 'blood_pressure': '98/69', 'blue_light_filter': 'Y', 'caffeine_consumption': 'Y', 'daily_steps': 17000, 'dry_eye_disease': 'N', 'eye_redness': 'N', 'eye_strain': 'N', 'feel_sleepy_during_day': 'Y', 'gender': 'F', 'heart_rate': 98, 'height': 153.0, 'itchy_eye': 'N', 'medical_issue': 'N', 'ongoing_medication': 'Y', 'physical_activity': 43, 'sleep_disorder': 'N', 'sleep_duration': 8.0, 'sleep_quality': 2, 'smart_device_before_bed': 'Y', 'smoking': 'Y', 'stress_level': 1, 'wake_up_during_night': 'Y', 'weight': 53.0}\n",
      "{'id': UUID('791cb09c-ecab-4014-b55a-26ee9fe33fe1'), 'age': 38, 'alcohol_consumption': 'Y', 'average_screen_time': 8.5, 'blood_pressure': '106/89', 'blue_light_filter': 'Y', 'caffeine_consumption': 'N', 'daily_steps': 7000, 'dry_eye_disease': 'N', 'eye_redness': 'N', 'eye_strain': 'N', 'feel_sleepy_during_day': 'Y', 'gender': 'M', 'heart_rate': 84, 'height': 169.0, 'itchy_eye': 'Y', 'medical_issue': 'Y', 'ongoing_medication': 'Y', 'physical_activity': 90, 'sleep_disorder': 'N', 'sleep_duration': 4.800000190734863, 'sleep_quality': 5, 'smart_device_before_bed': 'N', 'smoking': 'N', 'stress_level': 1, 'wake_up_during_night': 'Y', 'weight': 64.0}\n",
      "{'id': UUID('1b5ae5d0-b3c1-4b3d-a117-8dc3f3f874a4'), 'age': 42, 'alcohol_consumption': 'Y', 'average_screen_time': 4.099999904632568, 'blood_pressure': '107/75', 'blue_light_filter': 'Y', 'caffeine_consumption': 'N', 'daily_steps': 3000, 'dry_eye_disease': 'N', 'eye_redness': 'N', 'eye_strain': 'N', 'feel_sleepy_during_day': 'N', 'gender': 'M', 'heart_rate': 85, 'height': 160.0, 'itchy_eye': 'N', 'medical_issue': 'Y', 'ongoing_medication': 'Y', 'physical_activity': 165, 'sleep_disorder': 'Y', 'sleep_duration': 8.0, 'sleep_quality': 5, 'smart_device_before_bed': 'Y', 'smoking': 'Y', 'stress_level': 5, 'wake_up_during_night': 'N', 'weight': 52.0}\n"
     ]
    }
   ],
   "source": [
    "rows = session.execute(\"SELECT * FROM dry_eye_csv LIMIT 5\")\n",
    "for row in rows:\n",
    "    print(dict(row._asdict()))"
   ]
  },
  {
   "cell_type": "code",
   "execution_count": 24,
   "metadata": {},
   "outputs": [
    {
     "name": "stdout",
     "output_type": "stream",
     "text": [
      " Total rows: 20001\n"
     ]
    }
   ],
   "source": [
    "result = session.execute(\"SELECT COUNT(*) FROM dryeye.dry_eye_csv\")\n",
    "count = result.one()[0]\n",
    "print(f\" Total rows: {count}\")\n"
   ]
  },
  {
   "cell_type": "code",
   "execution_count": null,
   "metadata": {},
   "outputs": [],
   "source": []
  }
 ],
 "metadata": {
  "kernelspec": {
   "display_name": "Python 3",
   "language": "python",
   "name": "python3"
  },
  "language_info": {
   "codemirror_mode": {
    "name": "ipython",
    "version": 3
   },
   "file_extension": ".py",
   "mimetype": "text/x-python",
   "name": "python",
   "nbconvert_exporter": "python",
   "pygments_lexer": "ipython3",
   "version": "3.10.13"
  }
 },
 "nbformat": 4,
 "nbformat_minor": 2
}
